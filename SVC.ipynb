{
  "nbformat": 4,
  "nbformat_minor": 0,
  "metadata": {
    "colab": {
      "provenance": [],
      "authorship_tag": "ABX9TyOb+nNJStnlpbjlJXqWlzA6",
      "include_colab_link": true
    },
    "kernelspec": {
      "name": "python3",
      "display_name": "Python 3"
    },
    "language_info": {
      "name": "python"
    }
  },
  "cells": [
    {
      "cell_type": "markdown",
      "metadata": {
        "id": "view-in-github",
        "colab_type": "text"
      },
      "source": [
        "<a href=\"https://colab.research.google.com/github/Alirazadevwith/Data_Analysis/blob/main/SVC.ipynb\" target=\"_parent\"><img src=\"https://colab.research.google.com/assets/colab-badge.svg\" alt=\"Open In Colab\"/></a>"
      ]
    },
    {
      "cell_type": "code",
      "execution_count": null,
      "metadata": {
        "id": "JDZmeOXTCJ7M"
      },
      "outputs": [],
      "source": [
        "import pandas as pd\n",
        "import numpy as np\n",
        "from sklearn.model_selection import train_test_split\n",
        "from sklearn.svm import SVC\n",
        "from sklearn.metrics import accuracy_score,classification_report"
      ]
    },
    {
      "cell_type": "code",
      "source": [
        "data = {\n",
        "    \"Age\": [\n",
        "        18,19,20,21,22,23,24,25,26,27,\n",
        "        28,29,30,31,32,33,34,35,36,37,\n",
        "        38,39,40,41,42,43,44,45,46,47,\n",
        "        48,49,50,51,52,53,54,55,56,57,\n",
        "        58,59,60,61,62,63,64,65,66,67\n",
        "    ],\n",
        "    \"month_ch\": [\n",
        "        5,10,15,18,20,22,25,27,30,32,\n",
        "        35,37,40,42,45,47,50,52,55,57,\n",
        "        60,62,65,67,70,72,75,77,80,82,\n",
        "        85,87,90,92,95,97,100,102,105,107,\n",
        "        110,112,115,117,120,122,125,127,130,132\n",
        "    ],\n",
        "    \"churn\": [\n",
        "        0,1,0,1,0,1,0,1,0,1,\n",
        "        0,1,0,1,0,1,0,1,0,1,\n",
        "        0,1,0,1,0,1,0,1,0,1,\n",
        "        0,1,0,1,0,1,0,1,0,1,\n",
        "        0,1,0,1,0,1,0,1,0,1\n",
        "    ]\n",
        "}\n",
        "\n",
        "df=pd.DataFrame(data)\n",
        "print(df)"
      ],
      "metadata": {
        "colab": {
          "base_uri": "https://localhost:8080/"
        },
        "id": "EEnkvNuAXL8E",
        "outputId": "7f57a62e-6942-46cb-97ad-20f2734abe1b"
      },
      "execution_count": null,
      "outputs": [
        {
          "output_type": "stream",
          "name": "stdout",
          "text": [
            "    Age  month_ch  churn\n",
            "0    18         5      0\n",
            "1    19        10      1\n",
            "2    20        15      0\n",
            "3    21        18      1\n",
            "4    22        20      0\n",
            "5    23        22      1\n",
            "6    24        25      0\n",
            "7    25        27      1\n",
            "8    26        30      0\n",
            "9    27        32      1\n",
            "10   28        35      0\n",
            "11   29        37      1\n",
            "12   30        40      0\n",
            "13   31        42      1\n",
            "14   32        45      0\n",
            "15   33        47      1\n",
            "16   34        50      0\n",
            "17   35        52      1\n",
            "18   36        55      0\n",
            "19   37        57      1\n",
            "20   38        60      0\n",
            "21   39        62      1\n",
            "22   40        65      0\n",
            "23   41        67      1\n",
            "24   42        70      0\n",
            "25   43        72      1\n",
            "26   44        75      0\n",
            "27   45        77      1\n",
            "28   46        80      0\n",
            "29   47        82      1\n",
            "30   48        85      0\n",
            "31   49        87      1\n",
            "32   50        90      0\n",
            "33   51        92      1\n",
            "34   52        95      0\n",
            "35   53        97      1\n",
            "36   54       100      0\n",
            "37   55       102      1\n",
            "38   56       105      0\n",
            "39   57       107      1\n",
            "40   58       110      0\n",
            "41   59       112      1\n",
            "42   60       115      0\n",
            "43   61       117      1\n",
            "44   62       120      0\n",
            "45   63       122      1\n",
            "46   64       125      0\n",
            "47   65       127      1\n",
            "48   66       130      0\n",
            "49   67       132      1\n"
          ]
        }
      ]
    },
    {
      "cell_type": "code",
      "source": [
        "X=df[['Age','month_ch']]\n",
        "y=df['churn']\n",
        "X_train,X_test,y_train,y_test=train_test_split(X,y,test_size=0.2,random_state=42)\n",
        "model=SVC(kernel='linear',C=1.0)\n",
        "model.fit(X_train,y_train)\n",
        "y_pred=model.predict(X_test)\n",
        "accuracy=accuracy_score(y_test,y_pred)\n",
        "print(\"Accuracy:\",accuracy)\n",
        "print(\"Classification Report:\\n\",classification_report(y_test,y_pred))"
      ],
      "metadata": {
        "colab": {
          "base_uri": "https://localhost:8080/"
        },
        "id": "BmBFb_7EXx6J",
        "outputId": "7ef74e0f-4fd9-44ef-e0b6-151d04b2db75"
      },
      "execution_count": null,
      "outputs": [
        {
          "output_type": "stream",
          "name": "stdout",
          "text": [
            "Accuracy: 0.6\n",
            "Classification Report:\n",
            "               precision    recall  f1-score   support\n",
            "\n",
            "           0       0.50      0.75      0.60         4\n",
            "           1       0.75      0.50      0.60         6\n",
            "\n",
            "    accuracy                           0.60        10\n",
            "   macro avg       0.62      0.62      0.60        10\n",
            "weighted avg       0.65      0.60      0.60        10\n",
            "\n"
          ]
        }
      ]
    },
    {
      "cell_type": "code",
      "source": [
        "user_age=float(input(\"Enter the age:\"))\n",
        "user_month_ch=float(input(\"Enter the month_ch\"))\n",
        "view=np.array([[user_age,user_month_ch]])\n",
        "prediction=model.predict(view)\n",
        "print(\"Prediction:\",prediction)\n",
        "if prediction[0]==0:\n",
        "  print(\"the user will not churn\")\n",
        "else:\n",
        "  print(\"the user will churn\")"
      ],
      "metadata": {
        "colab": {
          "base_uri": "https://localhost:8080/"
        },
        "id": "NUdHXmpfZdLQ",
        "outputId": "ed4a9d27-0cfe-41d0-ebd8-fb3880fffcf1"
      },
      "execution_count": null,
      "outputs": [
        {
          "output_type": "stream",
          "name": "stdout",
          "text": [
            "Enter the age:23\n",
            "Enter the month_ch400\n",
            "Prediction: [0]\n",
            "the user will not churn\n"
          ]
        },
        {
          "output_type": "stream",
          "name": "stderr",
          "text": [
            "/usr/local/lib/python3.12/dist-packages/sklearn/utils/validation.py:2739: UserWarning: X does not have valid feature names, but SVC was fitted with feature names\n",
            "  warnings.warn(\n"
          ]
        }
      ]
    }
  ]
}