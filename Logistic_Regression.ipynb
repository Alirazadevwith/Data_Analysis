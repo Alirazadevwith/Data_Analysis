{
  "nbformat": 4,
  "nbformat_minor": 0,
  "metadata": {
    "colab": {
      "provenance": [],
      "authorship_tag": "ABX9TyMkH3rWscu/wmv0qaUUUwS3",
      "include_colab_link": true
    },
    "kernelspec": {
      "name": "python3",
      "display_name": "Python 3"
    },
    "language_info": {
      "name": "python"
    }
  },
  "cells": [
    {
      "cell_type": "markdown",
      "metadata": {
        "id": "view-in-github",
        "colab_type": "text"
      },
      "source": [
        "<a href=\"https://colab.research.google.com/github/Alirazadevwith/Data_Analysis/blob/main/Logistic_Regression.ipynb\" target=\"_parent\"><img src=\"https://colab.research.google.com/assets/colab-badge.svg\" alt=\"Open In Colab\"/></a>"
      ]
    },
    {
      "cell_type": "code",
      "execution_count": null,
      "metadata": {
        "id": "8JVPRfWq2xrp"
      },
      "outputs": [],
      "source": [
        "import numpy as np\n",
        "from sklearn.model_selection import train_test_split\n",
        "from sklearn.linear_model import LogisticRegression"
      ]
    },
    {
      "cell_type": "code",
      "source": [
        "X=np.array([[20,4,0],[24,2,1],[28,6,0],[18,1,1]])\n",
        "y=np.array([1,1,0,0])\n",
        "X_train,X_test,y_train,y_test=train_test_split(X,y,test_size=0.2,random_state=42)\n",
        "model=LogisticRegression()\n",
        "model.fit(X_train,y_train)\n",
        "accuracy=model.score(X_test,y_test)\n",
        "print(\"Accuracy is:\",accuracy)"
      ],
      "metadata": {
        "colab": {
          "base_uri": "https://localhost:8080/"
        },
        "id": "JWJ_hS0_3LPn",
        "outputId": "c15c20a3-4953-418b-9efb-911c3fe65282"
      },
      "execution_count": null,
      "outputs": [
        {
          "output_type": "stream",
          "name": "stdout",
          "text": [
            "Accuracy is: 0.0\n"
          ]
        }
      ]
    },
    {
      "cell_type": "code",
      "source": [
        "age=float(input(\"Enter age:\"))\n",
        "hours_per_week=float(input(\"Enter hours per week:\"))\n",
        "addcart=float(input(\"Enter addcart:\"))\n",
        "new_data=np.array([[age,hours_per_week,addcart]])\n",
        "prediction=model.predict(new_data)\n",
        "if prediction[0]==1:\n",
        "  print(\"User will buy product\")\n",
        "else:\n",
        "  print(\"User will not buy product\")"
      ],
      "metadata": {
        "colab": {
          "base_uri": "https://localhost:8080/"
        },
        "id": "Hi-MAyNv4CHM",
        "outputId": "a8b8924c-43ed-4b6c-b448-88bc64d8dd3c"
      },
      "execution_count": null,
      "outputs": [
        {
          "output_type": "stream",
          "name": "stdout",
          "text": [
            "Enter age:19\n",
            "Enter hours per week:1.5\n",
            "Enter addcart:1\n",
            "User will not buy product\n"
          ]
        }
      ]
    }
  ]
}